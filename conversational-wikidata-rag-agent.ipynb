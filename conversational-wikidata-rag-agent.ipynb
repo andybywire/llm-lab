{
 "cells": [
  {
   "cell_type": "markdown",
   "metadata": {},
   "source": [
    "# Conversational Wikidata RAG Agent\n",
    "A conversational application using LangChain's prebuilt ReAct agent that can query Wikidata for up-to-date facts and incorporate them into generated responses.\n",
    "\n",
    "- accesses data via the Wikidata SPARQL endpoint to support inference \n",
    "- supports return of implicit facts in the dataset not explicitly on individual records\n",
    "- defines a narrow scope of functionality in order to deal with the wide ranging schema of Wikidata content\n",
    "\n",
    "This exercise builds on the `conversational-rag-agent.ipynb` exercise and adds in:\n",
    "- custom tool definition\n",
    "- multiple tool options\n",
    "- tool parameters\n",
    "- scope guardrails\n",
    "\n",
    "This particular example creates an agent designed to answer questions about the age and country of origin of medalists in the 2024 Summer Olympics. Sample questions with correct answers (according to Wikidata) are provided below. Verify additional questions (including those that reflect updated data) with [this SPARQL query](https://query.wikidata.org/#%23title%3A%2010%20youngest%20medalists%20of%20the%202024%20Summer%20Olympic%20Games%0A%23description%3A%20Return%20their%20country%2C%20sport%2C%20event%2C%20age%20at%20the%20time%20of%20the%20games%2C%20and%20medal%0APREFIX%20wd%3A%20%3Chttp%3A%2F%2Fwww.wikidata.org%2Fentity%2F%3E%0APREFIX%20wdt%3A%20%3Chttp%3A%2F%2Fwww.wikidata.org%2Fprop%2Fdirect%2F%3E%0APREFIX%20wikibase%3A%20%3Chttp%3A%2F%2Fwikiba.se%2Fontology%23%3E%0APREFIX%20p%3A%20%3Chttp%3A%2F%2Fwww.wikidata.org%2Fprop%2F%3E%0APREFIX%20ps%3A%20%3Chttp%3A%2F%2Fwww.wikidata.org%2Fprop%2Fstatement%2F%3E%0APREFIX%20pq%3A%20%3Chttp%3A%2F%2Fwww.wikidata.org%2Fprop%2Fqualifier%2F%3E%0A%0A%0ASELECT%20DISTINCT%20%3FsportLabel%20%3FeventLabel%20%3FparticipantLabel%20%3Fage%20%3FcountryLabel%20%3FawardLabel%0A%0AWHERE%20%7B%0A%20%20%3Fsport%20wdt%3AP31%20wd%3AQ26132862%3B%20%20%23%20item%20that%20is%20an%20instance%20of%20olympic%20sports%20discipline%0A%20%20%20%20wdt%3AP361%2B%20wd%3AQ995653%3B%20%20%20%20%20%20%20%23%20and%20part%20of%202024%20games%2C%20or%20part%20of%20an%20event%20that%20was%0A%20%20%20%20wdt%3AP527%20%3Fevent.%20%20%20%20%20%20%20%20%20%20%20%20%23%20and%20hasParts%20that%20are%20individual%20events%0A%20%20%20%20%23%20not%20all%20disciplines%20have%20events%20listed%3B%20this%20list%20will%20be%20missing%20some%20categories%0A%20%20%0A%20%20%23%20get%20full%20statements%20about%20the%20participatns%2C%20participating%20teams%2C%20and%20winners%20of%20those%20events%0A%20%20%3Fevent%20p%3AP710%20%7C%20p%3AP1923%20%7C%20p%3AP1346%20%3FparticipantStatement.%0A%0A%20%20%3FparticipantStatement%20ps%3AP1346%20%7C%20ps%3AP710%20%7C%20ps%3AP1923%20%3Fparticipant%3B%20%20%23%20get%20the%20participant%0A%20%20%20%20%20%20pq%3AP166%20%7C%20pq%3AP2868%20%3Faward.%20%20%20%20%20%20%20%20%20%20%20%20%20%20%20%20%20%20%20%20%20%20%20%20%20%20%20%20%20%20%20%20%20%20%20%20%20%23%20and%20that%20participant%27s%20award%0A%0A%20%20%3Fparticipant%20wdt%3AP1532%20%3Fcountry%3B%20%20%20%23%20Get%20the%20country%20the%20participant%20competed%20for%0A%20%20%20%20%20%20%20%20%20%20%20%20%20%20%20wdt%3AP569%20%3Fdob.%20%20%20%20%20%20%20%20%23%20and%20their%20date%20of%20birth%0A%0A%20%20%23%20Bind%20closing%20ceremony%20date%20as%20%3Fclosing%0A%20%20BIND%28%222024-08-11%22%5E%5Exsd%3Adate%20AS%20%3Fclosing%29%0A%0A%20%20%23%20Calculate%20approximate%20age%20by%20subtracting%20the%20closing%20date%20from%20the%20participant%27s%20date%20of%20birth%0A%20%20BIND%28%0A%20%20%20%20FLOOR%28%0A%20%20%20%20%20%20%28YEAR%28%3Fclosing%29%20-%20YEAR%28%3Fdob%29%29%20-%0A%20%20%20%20%20%20%20%20IF%20%28MONTH%28%3Fclosing%29%20%3C%20MONTH%28%3Fdob%29%20%7C%7C%20%28MONTH%28%3Fclosing%29%20%3D%20MONTH%28%3Fdob%29%20%26%26%20DAY%28%3Fclosing%29%20%3C%20DAY%28%3Fdob%29%29%2C%201%2C%200%29%0A%20%20%20%20%29%20AS%20%3Fage%29%0A%20%20%20%20%20%20%20%20%20%20%20%20%0A%20%20%23%20Use%20SERVICE%20wikibase%3Alabel%20to%20fetch%20labels%0A%20%20SERVICE%20wikibase%3Alabel%20%7B%20bd%3AserviceParam%20wikibase%3Alanguage%20%22%5BAUTO_LANGUAGE%5D%2Cen%22.%20%7D%0A%7D%0AORDER%20BY%20%3Fage%0A%23%20LIMIT%2010%0A). \n"
   ]
  },
  {
   "cell_type": "code",
   "execution_count": 9,
   "metadata": {},
   "outputs": [],
   "source": [
    "%pip install --upgrade --quiet langchain\n",
    "%pip install -qU langchain-openai\n",
    "%pip install python-dotenv\n",
    "%pip install langchain_core\n",
    "%pip install langgraph\n",
    "%pip install sparqlwrapper"
   ]
  },
  {
   "cell_type": "code",
   "execution_count": 1,
   "metadata": {},
   "outputs": [],
   "source": [
    "import os\n",
    "from dotenv import load_dotenv\n",
    "from langchain_openai import ChatOpenAI\n",
    "\n",
    "# Load environment variables from .env file\n",
    "load_dotenv()\n",
    "\n",
    "# Change the temperature to see how much the model varies outputs\n",
    "temp = 0\n",
    "\n",
    "llm = ChatOpenAI(model=\"gpt-4o-mini\", temperature=temp, api_key=os.getenv(\"OPENAI_API_KEY\"))\n",
    "\n",
    "# Enable tracing with LangSmith\n",
    "# LANGCHAIN_API_KEY environment variable is set in .env\n",
    "os.environ['LANGCHAIN_TRACING_V2'] = \"true\"\n",
    "os.environ['LANGCHAIN_PROJECT'] = \"wikidata-rag\"\n",
    "\n",
    "# Set the USER_AGENT environment variable\n",
    "os.environ['USER_AGENT'] = 'conversational-rag-agent'"
   ]
  },
  {
   "cell_type": "markdown",
   "metadata": {},
   "source": [
    "## Create Wikidata tool"
   ]
  },
  {
   "cell_type": "code",
   "execution_count": 2,
   "metadata": {},
   "outputs": [],
   "source": [
    "from SPARQLWrapper import SPARQLWrapper, JSON\n",
    "from langchain.tools import tool\n",
    "from typing import Literal\n",
    "\n",
    "@tool\n",
    "def wikidataOlympicMedalistQuery(direction: Literal[\"ASC\", \"DESC\"] = \"ASC\", limit: int = 10) -> str:\n",
    "    \"\"\"This tool returns data on the youngest medalists of the 2024 Summer Olympic Games on Wikidata and return their country, sport, event, age at the time of the games, and what medal they won.\n",
    "    \n",
    "    Args:\n",
    "        direction (Literal[\"ASC\", \"DESC\"]): The direction to sort the results. Default is \"ASC\".\n",
    "        limit (int): The number of results to return. Default is 10. If you don't see any relevant results, try increasing the limit.\"\"\"\n",
    "    \n",
    "    endpoint_url = \"https://query.wikidata.org/sparql\"\n",
    "\n",
    "    query = f\"\"\"#title: 10 youngest medalists of the 2024 Summer Olympic Games\n",
    "    #description: Return their country, sport, event, age at the time of the games, and medal\n",
    "    PREFIX wd: <http://www.wikidata.org/entity/>\n",
    "    PREFIX wdt: <http://www.wikidata.org/prop/direct/>\n",
    "    PREFIX wikibase: <http://wikiba.se/ontology#>\n",
    "    PREFIX p: <http://www.wikidata.org/prop/>\n",
    "    PREFIX ps: <http://www.wikidata.org/prop/statement/>\n",
    "    PREFIX pq: <http://www.wikidata.org/prop/qualifier/>\n",
    "\n",
    "\n",
    "    SELECT DISTINCT ?sportLabel ?eventLabel ?participantLabel ?age ?countryLabel ?awardLabel\n",
    "\n",
    "    WHERE {{\n",
    "    ?sport wdt:P31 wd:Q26132862;    # item that is an instance of olympic sports discipline\n",
    "        wdt:P361+ wd:Q995653;       # and part of 2024 games, or part of an event that was\n",
    "        wdt:P527 ?event.            # and hasParts that are individual events\n",
    "                                    # not all disciplines have events listed: this list will be missing some categories\n",
    "\n",
    "    # get full statements about the participants, participating teams, and winners of those events\n",
    "    ?event p:P710 | p:P1923 | p:P1346 ?participantStatement.\n",
    "\n",
    "    ?participantStatement ps:P1346 | ps:P710 | ps:P1923 ?participant;  # get the participant\n",
    "        pq:P166 | pq:P2868 ?award.                                     # and that participant's award\n",
    "\n",
    "    ?participant wdt:P1532 ?country;   # Get the country the participant competed for\n",
    "                wdt:P569 ?dob.         # and their date of birth\n",
    "\n",
    "    # Bind closing ceremony date as ?closing\n",
    "    BIND(\"2024-08-11\"^^xsd:date AS ?closing)\n",
    "\n",
    "    # Calculate approximate age by subtracting the closing date from the participant's date of birth\n",
    "    BIND(\n",
    "        FLOOR(\n",
    "        (YEAR(?closing) - YEAR(?dob)) -\n",
    "            IF (MONTH(?closing) < MONTH(?dob) || (MONTH(?closing) = MONTH(?dob) && DAY(?closing) < DAY(?dob)), 1, 0)\n",
    "        ) AS ?age)\n",
    "                \n",
    "    # Use SERVICE wikibase:label to fetch labels\n",
    "    SERVICE wikibase:label {{ bd:serviceParam wikibase:language \"[AUTO_LANGUAGE],en\". }}\n",
    "    }}\n",
    "    ORDER BY {direction}(?age)\n",
    "    LIMIT {limit}\n",
    "    \"\"\"\n",
    "\n",
    "    def get_results(endpoint_url, query):\n",
    "        user_agent = \"LlmIntegration/0.0 (https://github.com/andybywire/)\"\n",
    "        sparql = SPARQLWrapper(endpoint_url, agent=user_agent)\n",
    "        sparql.setQuery(query)\n",
    "        sparql.setReturnFormat(JSON)\n",
    "        return sparql.query().convert()\n",
    "\n",
    "    results = get_results(endpoint_url, query)\n",
    "\n",
    "    def create_statements(results):\n",
    "        statements = []\n",
    "        if results:\n",
    "            for result in results[\"results\"][\"bindings\"]:\n",
    "                statement = f\"{result['participantLabel']['value']}, age {result['age']['value']} from {result['countryLabel']['value']}, won a {result['awardLabel']['value'].replace('Olympic','')} in {result['eventLabel']['value'].replace(' – ',', ')}.\"\n",
    "                statements.append(statement)\n",
    "        return statements\n",
    "\n",
    "    return create_statements(results)\n",
    "\n",
    "tools = [wikidataOlympicMedalistQuery]"
   ]
  },
  {
   "cell_type": "markdown",
   "metadata": {},
   "source": [
    "## Create agent with conversation memory"
   ]
  },
  {
   "cell_type": "code",
   "execution_count": 3,
   "metadata": {},
   "outputs": [
    {
     "data": {
      "image/jpeg": "[encoded data removed]",
      "text/plain": [
       "<IPython.core.display.Image object>"
      ]
     },
     "metadata": {},
     "output_type": "display_data"
    }
   ],
   "source": [
    "from langgraph.prebuilt import create_react_agent\n",
    "from langgraph.checkpoint.memory import MemorySaver\n",
    "\n",
    "memory = MemorySaver()\n",
    "\n",
    "prompt = \"\"\"You are an assistant designed for answering questions \n",
    "about the results of the 2024 Summer Olympics. Use the tools at your \n",
    "disposal to answer the question. If the data provided doesn't answer \n",
    "the question, try to tool again with a larger return limit or a \n",
    "different sort order. If you still can't find the the answer, \n",
    "say that you don't know. Keep your answers concise and limit your \n",
    "responses to 3-4 sentences or brief lists.\"\"\"\n",
    "\n",
    "agent_executor = create_react_agent(llm, tools, state_modifier=prompt, checkpointer=memory)\n",
    "\n",
    "from IPython.display import Image, display\n",
    "\n",
    "display(Image(agent_executor.get_graph().draw_mermaid_png()))"
   ]
  },
  {
   "cell_type": "markdown",
   "metadata": {},
   "source": [
    "## Invoke the agent"
   ]
  },
  {
   "cell_type": "code",
   "execution_count": null,
   "metadata": {},
   "outputs": [],
   "source": [
    "import uuid\n",
    "from langchain_core.messages import HumanMessage\n",
    "from IPython.display import display, Markdown\n",
    "\n",
    "# create a new id each time this cell is run\n",
    "config = {\"configurable\": {\"thread_id\": str(uuid.uuid4())}}\n",
    "\n",
    "while True:\n",
    "    question = input(\"> \")\n",
    "    if question == \"q\": # type 'q' to quit\n",
    "        break\n",
    "    response = agent_executor.invoke(\n",
    "        {\"messages\": [HumanMessage(content=question)]}, config=config\n",
    "    )\n",
    "    display(Markdown(f\"\"\"**Question:** {question}   \n",
    "                         **Response:** {response[\"messages\"][-1].content}\"\"\"))\n",
    "\n",
    "# Sample questions & correct answers\n",
    "#\n",
    "# Who were the youngest medalists at the 2024 Summer Olympics and what did they win?\n",
    "#   - 1. Ban Hyo-jin (South Korea) - age 16, gold medal in shooting (women's 10 metre air rifle).\n",
    "#   - 2. Dominika Banevič (Lithuania) - age 17, silver medal in breaking (B-girls).\n",
    "#   - 3. Darja Varfolomeev (Germany) - age 17, gold medal in gymnastics (women's rhythmic individual all-around).\n",
    "#   - 4. Quan Hongchan (People's Republic of China) - age 17, gold medal in diving (women's 10 metre platform). \n",
    "# What countries were the youngest medalists at the 2024 Summer Olympics from?\n",
    "#   - South Korea, Lithuania, Germany, People's Republic of China, Russia\n",
    "# Who was the youngest medalist from Japan in the 2024 Summer Olympic \n",
    "#   - Men's tennis singles, Carlos Alcara\n",
    "# Who was the youngest medalist at the Summer 2024 Olympics from a country in Africa and what event did they win?\n",
    "#   - Emmanuel Wanyonyi from Kenya, who won a gold medal in athletics (men's 800 metres)\n",
    "# Who was the oldest medalist at the 2024 Olympics from a country in Africa?\n",
    "#   - Hellen Obiri from Kenya, who won a bronze medal in athletics (women's marathon)\n",
    "# Who was the youngest fencing medalist at the 2024 Olympic Games?\n",
    "#  - As of 9.13.24, this should return no results: fencing data is not yet available in Wikidata"
   ]
  },
  {
   "cell_type": "code",
   "execution_count": null,
   "metadata": {},
   "outputs": [],
   "source": [
    "# inspect the response object\n",
    "import json\n",
    "print(json.dumps(response, indent=4, default=str))"
   ]
  }
 ],
 "metadata": {
  "kernelspec": {
   "display_name": ".venv",
   "language": "python",
   "name": "python3"
  },
  "language_info": {
   "codemirror_mode": {
    "name": "ipython",
    "version": 3
   },
   "file_extension": ".py",
   "mimetype": "text/x-python",
   "name": "python",
   "nbconvert_exporter": "python",
   "pygments_lexer": "ipython3",
   "version": "3.11.9"
  }
 },
 "nbformat": 4,
 "nbformat_minor": 2
}
