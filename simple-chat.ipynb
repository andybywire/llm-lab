{
 "cells": [
  {
   "cell_type": "markdown",
   "metadata": {},
   "source": [
    "# A Simple LLM Chat\n",
    "- install requirements and run the cell to start the chat\n",
    "- enter 'q' in the input field to quit"
   ]
  },
  {
   "cell_type": "code",
   "execution_count": null,
   "metadata": {},
   "outputs": [],
   "source": [
    "%pip install openai"
   ]
  },
  {
   "cell_type": "code",
   "execution_count": null,
   "metadata": {},
   "outputs": [],
   "source": [
    "from openai import OpenAI\n",
    "import json\n",
    "\n",
    "client = OpenAI()\n",
    "conversation_history = [\n",
    "    {\"role\": \"system\", \"content\": \"You are a helpful assistant who gives short, humorous responses to questions.\"}\n",
    "]\n",
    "\n",
    "while True:\n",
    "    query = input(\"> \")\n",
    "    if query == \"q\": # type q to quit\n",
    "        break\n",
    "\n",
    "    if query == \"\":\n",
    "        query = \"Tell me a fun fact.\"\n",
    "\n",
    "    conversation_history.append({\"role\": \"user\", \"content\": query})\n",
    "\n",
    "    stream = client.chat.completions.create(\n",
    "        model=\"gpt-4o-mini\",\n",
    "        messages=conversation_history,\n",
    "        stream=True,\n",
    "        temperature=0.8,\n",
    "    )\n",
    "\n",
    "    # print the conversation_history response as pretty print json\n",
    "    print(json.dumps(conversation_history, indent=2))\n",
    "\n",
    "    for chunk in stream:\n",
    "        if chunk.choices[0].delta.content is not None:\n",
    "            print(chunk.choices[0].delta.content, end=\"\")\n",
    "    print(\"\\n\") \n"
   ]
  }
 ],
 "metadata": {
  "kernelspec": {
   "display_name": ".venv",
   "language": "python",
   "name": "python3"
  },
  "language_info": {
   "codemirror_mode": {
    "name": "ipython",
    "version": 3
   },
   "file_extension": ".py",
   "mimetype": "text/x-python",
   "name": "python",
   "nbconvert_exporter": "python",
   "pygments_lexer": "ipython3",
   "version": "3.11.9"
  }
 },
 "nbformat": 4,
 "nbformat_minor": 2
}
